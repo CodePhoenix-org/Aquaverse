{
 "cells": [
  {
   "cell_type": "code",
   "execution_count": 2,
   "id": "521d88f1",
   "metadata": {},
   "outputs": [],
   "source": [
    "import xarray as xr\n",
    "import numpy as np\n",
    "import pandas as pd\n",
    "from datetime import datetime, timedelta\n",
    "import os"
   ]
  },
  {
   "cell_type": "code",
   "execution_count": 3,
   "id": "a06987c2",
   "metadata": {},
   "outputs": [
    {
     "name": "stdout",
     "output_type": "stream",
     "text": [
      "Variables in dataset: ['DATA_TYPE', 'FORMAT_VERSION', 'HANDBOOK_VERSION', 'REFERENCE_DATE_TIME', 'DATE_CREATION', 'DATE_UPDATE', 'PLATFORM_NUMBER', 'PROJECT_NAME', 'PI_NAME', 'STATION_PARAMETERS', 'CYCLE_NUMBER', 'DIRECTION', 'DATA_CENTRE', 'DC_REFERENCE', 'DATA_STATE_INDICATOR', 'DATA_MODE', 'PLATFORM_TYPE', 'FLOAT_SERIAL_NO', 'FIRMWARE_VERSION', 'WMO_INST_TYPE', 'JULD', 'JULD_QC', 'JULD_LOCATION', 'LATITUDE', 'LONGITUDE', 'POSITION_QC', 'POSITIONING_SYSTEM', 'PROFILE_PRES_QC', 'PROFILE_TEMP_QC', 'PROFILE_PSAL_QC', 'VERTICAL_SAMPLING_SCHEME', 'CONFIG_MISSION_NUMBER', 'PRES', 'PRES_QC', 'PRES_ADJUSTED', 'PRES_ADJUSTED_QC', 'PRES_ADJUSTED_ERROR', 'TEMP', 'TEMP_QC', 'TEMP_ADJUSTED', 'TEMP_ADJUSTED_QC', 'TEMP_ADJUSTED_ERROR', 'PSAL', 'PSAL_QC', 'PSAL_ADJUSTED', 'PSAL_ADJUSTED_QC', 'PSAL_ADJUSTED_ERROR', 'PARAMETER', 'SCIENTIFIC_CALIB_EQUATION', 'SCIENTIFIC_CALIB_COEFFICIENT', 'SCIENTIFIC_CALIB_COMMENT', 'SCIENTIFIC_CALIB_DATE', 'HISTORY_INSTITUTION', 'HISTORY_STEP', 'HISTORY_SOFTWARE', 'HISTORY_SOFTWARE_RELEASE', 'HISTORY_REFERENCE', 'HISTORY_DATE', 'HISTORY_ACTION', 'HISTORY_PARAMETER', 'HISTORY_START_PRES', 'HISTORY_STOP_PRES', 'HISTORY_PREVIOUS_VALUE', 'HISTORY_QCTEST']\n"
     ]
    }
   ],
   "source": [
    "ds = xr.open_dataset('7902287_prof.nc')\n",
    "print(\"Variables in dataset:\", list(ds.variables))"
   ]
  },
  {
   "cell_type": "code",
   "execution_count": 6,
   "id": "65f14d94",
   "metadata": {},
   "outputs": [],
   "source": [
    "lat = ds[\"LATITUDE\"].values\n",
    "lon = ds[\"LONGITUDE\"].values\n",
    "juld = ds[\"JULD\"].values\n",
    "pres = ds[\"PRES\"].values\n",
    "temp = ds[\"TEMP\"].values\n",
    "psal = ds[\"PSAL\"].values"
   ]
  },
  {
   "cell_type": "code",
   "execution_count": 8,
   "id": "63d5f933",
   "metadata": {},
   "outputs": [],
   "source": [
    "ref_date = datetime(1950, 1, 1)\n",
    "\n",
    "if np.issubdtype(juld.dtype, np.datetime64):\n",
    "    time = pd.to_datetime(juld)\n",
    "else:\n",
    "    # Otherwise treat as \"days since 1950-01-01\"\n",
    "    juld = juld.astype(float)  # force float\n",
    "    juld = np.where((np.isfinite(juld)) & (juld < 100000), juld, np.nan)  # filter invalid\n",
    "    time = [\n",
    "        ref_date + timedelta(days=float(t)) if not np.isnan(t) else pd.NaT\n",
    "        for t in juld\n",
    "    ]"
   ]
  },
  {
   "cell_type": "code",
   "execution_count": 10,
   "id": "32ee75be",
   "metadata": {},
   "outputs": [],
   "source": [
    "n_prof, n_levels = pres.shape\n",
    "lat_expanded = np.repeat(lat, n_levels)\n",
    "lon_expanded = np.repeat(lon, n_levels)\n",
    "time_expanded = np.repeat(time, n_levels)\n",
    "\n",
    "df = pd.DataFrame({\n",
    "    \"time\": time_expanded,\n",
    "    \"latitude\": lat_expanded,\n",
    "    \"longitude\": lon_expanded,\n",
    "    \"pressure\": pres.flatten(),\n",
    "    \"temperature\": temp.flatten(),\n",
    "    \"salinity\": psal.flatten()\n",
    "})"
   ]
  },
  {
   "cell_type": "code",
   "execution_count": null,
   "id": "5572c3d7",
   "metadata": {},
   "outputs": [],
   "source": [
    "df = df.dropna()\n",
    "\n",
    "df.to_csv(\"sample_cleaned.csv\", index=False)"
   ]
  },
  {
   "cell_type": "code",
   "execution_count": 12,
   "id": "2b1bcb92",
   "metadata": {},
   "outputs": [
    {
     "name": "stdout",
     "output_type": "stream",
     "text": [
      "                 time  latitude  longitude  pressure  temperature   salinity\n",
      "0 2025-03-11 05:49:55  8.983333       68.0       0.3    29.635000  34.337002\n",
      "1 2025-03-11 05:49:55  8.983333       68.0       1.1    29.479000  34.409000\n",
      "2 2025-03-11 05:49:55  8.983333       68.0       1.9    29.441000  34.431000\n",
      "3 2025-03-11 05:49:55  8.983333       68.0       2.9    29.433001  34.431000\n",
      "4 2025-03-11 05:49:55  8.983333       68.0       3.8    29.427000  34.431999\n"
     ]
    }
   ],
   "source": [
    "print(df.head())"
   ]
  }
 ],
 "metadata": {
  "kernelspec": {
   "display_name": "Python 3",
   "language": "python",
   "name": "python3"
  },
  "language_info": {
   "codemirror_mode": {
    "name": "ipython",
    "version": 3
   },
   "file_extension": ".py",
   "mimetype": "text/x-python",
   "name": "python",
   "nbconvert_exporter": "python",
   "pygments_lexer": "ipython3",
   "version": "3.10.0"
  }
 },
 "nbformat": 4,
 "nbformat_minor": 5
}
