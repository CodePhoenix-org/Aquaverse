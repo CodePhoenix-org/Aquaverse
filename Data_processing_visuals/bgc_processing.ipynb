{
 "cells": [
  {
   "cell_type": "code",
   "execution_count": 2,
   "id": "ae6c1afd",
   "metadata": {},
   "outputs": [],
   "source": [
    "import xarray as xr\n",
    "import pandas as pd"
   ]
  },
  {
   "cell_type": "code",
   "execution_count": 3,
   "id": "3be57c1f",
   "metadata": {},
   "outputs": [
    {
     "name": "stdout",
     "output_type": "stream",
     "text": [
      "['DATA_TYPE', 'FORMAT_VERSION', 'HANDBOOK_VERSION', 'REFERENCE_DATE_TIME', 'DATE_CREATION', 'DATE_UPDATE', 'PLATFORM_NUMBER', 'PROJECT_NAME', 'PI_NAME', 'STATION_PARAMETERS', 'CYCLE_NUMBER', 'DIRECTION', 'DATA_CENTRE', 'PARAMETER_DATA_MODE', 'PLATFORM_TYPE', 'FLOAT_SERIAL_NO', 'FIRMWARE_VERSION', 'WMO_INST_TYPE', 'JULD', 'JULD_QC', 'JULD_LOCATION', 'LATITUDE', 'LONGITUDE', 'POSITION_QC', 'POSITIONING_SYSTEM', 'CONFIG_MISSION_NUMBER', 'PARAMETER', 'SCIENTIFIC_CALIB_EQUATION', 'SCIENTIFIC_CALIB_COEFFICIENT', 'SCIENTIFIC_CALIB_COMMENT', 'SCIENTIFIC_CALIB_DATE', 'PROFILE_PRES_QC', 'PROFILE_TEMP_QC', 'PROFILE_PSAL_QC', 'PROFILE_DOXY_QC', 'PROFILE_CHLA_QC', 'PROFILE_BBP700_QC', 'PRES', 'PRES_QC', 'PRES_ADJUSTED', 'PRES_ADJUSTED_QC', 'PRES_ADJUSTED_ERROR', 'TEMP', 'TEMP_QC', 'TEMP_dPRES', 'TEMP_ADJUSTED', 'TEMP_ADJUSTED_QC', 'TEMP_ADJUSTED_ERROR', 'PSAL', 'PSAL_QC', 'PSAL_dPRES', 'PSAL_ADJUSTED', 'PSAL_ADJUSTED_QC', 'PSAL_ADJUSTED_ERROR', 'DOXY', 'DOXY_QC', 'DOXY_dPRES', 'DOXY_ADJUSTED', 'DOXY_ADJUSTED_QC', 'DOXY_ADJUSTED_ERROR', 'CHLA', 'CHLA_QC', 'CHLA_dPRES', 'CHLA_ADJUSTED', 'CHLA_ADJUSTED_QC', 'CHLA_ADJUSTED_ERROR', 'BBP700', 'BBP700_QC', 'BBP700_dPRES', 'BBP700_ADJUSTED', 'BBP700_ADJUSTED_QC', 'BBP700_ADJUSTED_ERROR']\n"
     ]
    }
   ],
   "source": [
    "ds=xr.open_dataset(\"2902202_Sprof.nc\")\n",
    "print(list(ds.variables))"
   ]
  },
  {
   "cell_type": "code",
   "execution_count": 4,
   "id": "87ccd8e9",
   "metadata": {},
   "outputs": [],
   "source": [
    "time = ds[\"JULD\"].values       \n",
    "lat = ds[\"LATITUDE\"].values\n",
    "lon = ds[\"LONGITUDE\"].values\n",
    "pres = ds[\"PRES\"].values        # Pressure\n",
    "temp = ds[\"TEMP\"].values        # Temperature\n",
    "psal = ds[\"PSAL\"].values        # Salinity\n",
    "\n",
    "doxy = ds.get(\"DOXY\", None)     # Oxygen\n",
    "chla = ds.get(\"CHLA\", None)     # Chlorophyll\n",
    "bbp  = ds.get(\"BBP700\", None)   # Backscatter at 700 nm"
   ]
  },
  {
   "cell_type": "code",
   "execution_count": null,
   "id": "f138732e",
   "metadata": {},
   "outputs": [
    {
     "name": "stderr",
     "output_type": "stream",
     "text": [
      "C:\\Users\\priya\\AppData\\Local\\Temp\\ipykernel_24060\\3890247717.py:2: FutureWarning: The return type of `Dataset.dims` will be changed to return a set of dimension names in future, in order to be more consistent with `DataArray.dims`. To access a mapping from dimension names to lengths, please use `Dataset.sizes`.\n",
      "  for i in range(ds.dims[\"N_PROF\"]):\n"
     ]
    },
    {
     "name": "stdout",
     "output_type": "stream",
     "text": [
      "   depth       temp   salinity      oxygen  chlorophyll\n",
      "0   4.30  26.846001  36.587002         NaN          NaN\n",
      "1   5.23  26.831230  36.588097  198.237595       0.2088\n",
      "2   6.00  26.819000  36.589001         NaN          NaN\n",
      "3   8.00  26.799999  36.591000         NaN          NaN\n",
      "4  10.00  26.788000  36.591999         NaN          NaN\n"
     ]
    }
   ],
   "source": [
    "profiles = []\n",
    "for i in range(ds.dims[\"N_PROF\"]):\n",
    "    profile_data = {\n",
    "        \"depth\": ds[\"PRES\"].isel(N_PROF=i).values,\n",
    "        \"temp\": ds[\"TEMP\"].isel(N_PROF=i).values,\n",
    "        \"salinity\": ds[\"PSAL\"].isel(N_PROF=i).values,\n",
    "        \"oxygen\": ds[\"DOXY\"].isel(N_PROF=i).values,\n",
    "        \"chlorophyll\": ds[\"CHLA\"].isel(N_PROF=i).values,\n",
    "    }\n",
    "    profiles.append(pd.DataFrame(profile_data))\n",
    "\n",
    "print(profiles[0].head())\n"
   ]
  },
  {
   "cell_type": "code",
   "execution_count": 7,
   "id": "d5f9cf92",
   "metadata": {},
   "outputs": [],
   "source": [
    "all_profiles = []\n",
    "for i in range(ds.sizes[\"N_PROF\"]):\n",
    "    profile_data = {\n",
    "        \"profile\": i,\n",
    "        \"depth\": ds[\"PRES\"].isel(N_PROF=i).values,\n",
    "        \"temp\": ds[\"TEMP\"].isel(N_PROF=i).values,\n",
    "        \"salinity\": ds[\"PSAL\"].isel(N_PROF=i).values,\n",
    "        \"oxygen\": ds[\"DOXY\"].isel(N_PROF=i).values,\n",
    "        \"chlorophyll\": ds[\"CHLA\"].isel(N_PROF=i).values,\n",
    "    }\n",
    "    df = pd.DataFrame(profile_data)\n",
    "    all_profiles.append(df)\n",
    "\n",
    "merged = pd.concat(all_profiles, ignore_index=True)\n",
    "merged.to_csv(\"bgc_sample.csv\", index=False)"
   ]
  },
  {
   "cell_type": "code",
   "execution_count": 8,
   "id": "1b651d80",
   "metadata": {},
   "outputs": [
    {
     "name": "stderr",
     "output_type": "stream",
     "text": [
      "C:\\Users\\priya\\AppData\\Local\\Temp\\ipykernel_24060\\2124296639.py:6: DeprecationWarning: DataFrameGroupBy.apply operated on the grouping columns. This behavior is deprecated, and in a future version of pandas the grouping columns will be excluded from the operation. Either pass `include_groups=False` to exclude the groupings or explicitly select the grouping columns after groupby to silence this warning.\n",
      "  df = df.groupby(\"profile\").apply(lambda g: g.interpolate(limit_direction=\"both\")).reset_index(drop=True)\n"
     ]
    }
   ],
   "source": [
    "df = pd.read_csv(\"bgc_sample.csv\")\n",
    "\n",
    "df = df[df[\"depth\"].notna()]\n",
    "df = df[df[\"depth\"] >= 0]\n",
    "\n",
    "df = df.groupby(\"profile\").apply(lambda g: g.interpolate(limit_direction=\"both\")).reset_index(drop=True)\n",
    "\n",
    "df[\"temp\"] = df[\"temp\"].clip(-2, 40)            # °C\n",
    "df[\"salinity\"] = df[\"salinity\"].clip(0, 42)     # PSU\n",
    "df[\"oxygen\"] = df[\"oxygen\"].clip(lower=0)       # µmol/kg, no negatives\n",
    "df[\"chlorophyll\"] = df[\"chlorophyll\"].clip(lower=0)  # mg/m³, no negatives\n",
    "\n",
    "df.to_csv(\"bgc_sample_cleaned.csv\", index=False)"
   ]
  }
 ],
 "metadata": {
  "kernelspec": {
   "display_name": "Python 3",
   "language": "python",
   "name": "python3"
  },
  "language_info": {
   "codemirror_mode": {
    "name": "ipython",
    "version": 3
   },
   "file_extension": ".py",
   "mimetype": "text/x-python",
   "name": "python",
   "nbconvert_exporter": "python",
   "pygments_lexer": "ipython3",
   "version": "3.10.0"
  }
 },
 "nbformat": 4,
 "nbformat_minor": 5
}
